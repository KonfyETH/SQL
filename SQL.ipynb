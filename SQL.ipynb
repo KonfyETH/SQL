{
 "cells": [
  {
   "cell_type": "markdown",
   "metadata": {},
   "source": [
    "# SQL"
   ]
  },
  {
   "cell_type": "markdown",
   "metadata": {},
   "source": [
    "# Задание 1"
   ]
  },
  {
   "cell_type": "markdown",
   "metadata": {},
   "source": [
    "### Условие"
   ]
  },
  {
   "cell_type": "markdown",
   "metadata": {},
   "source": [
    "Образовательные курсы состоят из различных уроков, каждый из которых состоит из нескольких маленьких заданий. Каждое такое маленькое задание называется \"горошиной\".\n",
    "\n",
    "Назовём очень усердным учеником того пользователя, который хотя бы раз за текущий месяц правильно решил 20 горошин."
   ]
  },
  {
   "cell_type": "code",
   "execution_count": 12,
   "metadata": {},
   "outputs": [],
   "source": [
    "import pandahouse as ph\n",
    "from datetime import datetime"
   ]
  },
  {
   "cell_type": "code",
   "execution_count": 13,
   "metadata": {},
   "outputs": [],
   "source": [
    "# Подключаемся к базе данных\n",
    "\n",
    "connection_default = {'host': 'https://clickhouse.lab.karpov.courses',\n",
    "                      'database':'default',\n",
    "                      'user':'student', \n",
    "                      'password':'dpo_python_2020'\n",
    "                     }"
   ]
  },
  {
   "cell_type": "markdown",
   "metadata": {},
   "source": [
    "Посмотрим на данные"
   ]
  },
  {
   "cell_type": "code",
   "execution_count": 14,
   "metadata": {},
   "outputs": [
    {
     "data": {
      "text/html": [
       "<div>\n",
       "<style scoped>\n",
       "    .dataframe tbody tr th:only-of-type {\n",
       "        vertical-align: middle;\n",
       "    }\n",
       "\n",
       "    .dataframe tbody tr th {\n",
       "        vertical-align: top;\n",
       "    }\n",
       "\n",
       "    .dataframe thead th {\n",
       "        text-align: right;\n",
       "    }\n",
       "</style>\n",
       "<table border=\"1\" class=\"dataframe\">\n",
       "  <thead>\n",
       "    <tr style=\"text-align: right;\">\n",
       "      <th></th>\n",
       "      <th>st_id</th>\n",
       "      <th>timest</th>\n",
       "      <th>correct</th>\n",
       "      <th>subject</th>\n",
       "    </tr>\n",
       "  </thead>\n",
       "  <tbody>\n",
       "    <tr>\n",
       "      <th>0</th>\n",
       "      <td>100379</td>\n",
       "      <td>2021-10-30 13:32:29</td>\n",
       "      <td>1</td>\n",
       "      <td>Theory of probability</td>\n",
       "    </tr>\n",
       "    <tr>\n",
       "      <th>1</th>\n",
       "      <td>100379</td>\n",
       "      <td>2021-10-30 14:11:19</td>\n",
       "      <td>0</td>\n",
       "      <td>Vizualization</td>\n",
       "    </tr>\n",
       "    <tr>\n",
       "      <th>2</th>\n",
       "      <td>100379</td>\n",
       "      <td>2021-10-30 15:54:22</td>\n",
       "      <td>1</td>\n",
       "      <td>Theory of probability</td>\n",
       "    </tr>\n",
       "  </tbody>\n",
       "</table>\n",
       "</div>"
      ],
      "text/plain": [
       "    st_id              timest  correct                subject\n",
       "0  100379 2021-10-30 13:32:29        1  Theory of probability\n",
       "1  100379 2021-10-30 14:11:19        0          Vizualization\n",
       "2  100379 2021-10-30 15:54:22        1  Theory of probability"
      ]
     },
     "execution_count": 14,
     "metadata": {},
     "output_type": "execute_result"
    }
   ],
   "source": [
    "query = '''\n",
    "    SELECT\n",
    "        st_id,\n",
    "        timest::DATETIME AS timest,\n",
    "        correct,\n",
    "        subject        \n",
    "    FROM default.peas\n",
    "    LIMIT 3\n",
    "    '''\n",
    "\n",
    "peas = ph.read_clickhouse(query=query, connection=connection_default)\n",
    "peas"
   ]
  },
  {
   "cell_type": "code",
   "execution_count": 15,
   "metadata": {
    "scrolled": true
   },
   "outputs": [
    {
     "data": {
      "text/html": [
       "<div>\n",
       "<style scoped>\n",
       "    .dataframe tbody tr th:only-of-type {\n",
       "        vertical-align: middle;\n",
       "    }\n",
       "\n",
       "    .dataframe tbody tr th {\n",
       "        vertical-align: top;\n",
       "    }\n",
       "\n",
       "    .dataframe thead th {\n",
       "        text-align: right;\n",
       "    }\n",
       "</style>\n",
       "<table border=\"1\" class=\"dataframe\">\n",
       "  <thead>\n",
       "    <tr style=\"text-align: right;\">\n",
       "      <th></th>\n",
       "      <th>st_id</th>\n",
       "      <th>sale_time</th>\n",
       "      <th>money</th>\n",
       "      <th>subject</th>\n",
       "    </tr>\n",
       "  </thead>\n",
       "  <tbody>\n",
       "    <tr>\n",
       "      <th>0</th>\n",
       "      <td>101432</td>\n",
       "      <td>2021-10-31 04:44:32</td>\n",
       "      <td>85000</td>\n",
       "      <td>Math</td>\n",
       "    </tr>\n",
       "    <tr>\n",
       "      <th>1</th>\n",
       "      <td>101432</td>\n",
       "      <td>2021-10-31 12:43:50</td>\n",
       "      <td>65000</td>\n",
       "      <td>Vizualization</td>\n",
       "    </tr>\n",
       "    <tr>\n",
       "      <th>2</th>\n",
       "      <td>104885</td>\n",
       "      <td>2021-10-30 17:05:55</td>\n",
       "      <td>65000</td>\n",
       "      <td>Vizualization</td>\n",
       "    </tr>\n",
       "  </tbody>\n",
       "</table>\n",
       "</div>"
      ],
      "text/plain": [
       "    st_id           sale_time  money        subject\n",
       "0  101432 2021-10-31 04:44:32  85000           Math\n",
       "1  101432 2021-10-31 12:43:50  65000  Vizualization\n",
       "2  104885 2021-10-30 17:05:55  65000  Vizualization"
      ]
     },
     "execution_count": 15,
     "metadata": {},
     "output_type": "execute_result"
    }
   ],
   "source": [
    "query = '''\n",
    "    SELECT\n",
    "        st_id,\n",
    "        sale_time::DATETIME AS sale_time,\n",
    "        money,\n",
    "        subject        \n",
    "    FROM default.final_project_check\n",
    "    LIMIT 3\n",
    "    '''\n",
    "\n",
    "final_project_check = ph.read_clickhouse(query=query, connection=connection_default)\n",
    "final_project_check"
   ]
  },
  {
   "cell_type": "code",
   "execution_count": 16,
   "metadata": {
    "scrolled": true
   },
   "outputs": [
    {
     "data": {
      "text/html": [
       "<div>\n",
       "<style scoped>\n",
       "    .dataframe tbody tr th:only-of-type {\n",
       "        vertical-align: middle;\n",
       "    }\n",
       "\n",
       "    .dataframe tbody tr th {\n",
       "        vertical-align: top;\n",
       "    }\n",
       "\n",
       "    .dataframe thead th {\n",
       "        text-align: right;\n",
       "    }\n",
       "</style>\n",
       "<table border=\"1\" class=\"dataframe\">\n",
       "  <thead>\n",
       "    <tr style=\"text-align: right;\">\n",
       "      <th></th>\n",
       "      <th>st_id</th>\n",
       "      <th>test_grp</th>\n",
       "    </tr>\n",
       "  </thead>\n",
       "  <tbody>\n",
       "    <tr>\n",
       "      <th>0</th>\n",
       "      <td>100379</td>\n",
       "      <td>pilot</td>\n",
       "    </tr>\n",
       "    <tr>\n",
       "      <th>1</th>\n",
       "      <td>101432</td>\n",
       "      <td>control</td>\n",
       "    </tr>\n",
       "    <tr>\n",
       "      <th>2</th>\n",
       "      <td>104818</td>\n",
       "      <td>pilot</td>\n",
       "    </tr>\n",
       "  </tbody>\n",
       "</table>\n",
       "</div>"
      ],
      "text/plain": [
       "    st_id test_grp\n",
       "0  100379    pilot\n",
       "1  101432  control\n",
       "2  104818    pilot"
      ]
     },
     "execution_count": 16,
     "metadata": {},
     "output_type": "execute_result"
    }
   ],
   "source": [
    "query = '''\n",
    "    SELECT\n",
    "        st_id,\n",
    "        test_grp       \n",
    "    FROM default.studs\n",
    "    LIMIT 3\n",
    "    '''\n",
    "\n",
    "studs = ph.read_clickhouse(query=query, connection=connection_default)\n",
    "studs"
   ]
  },
  {
   "cell_type": "markdown",
   "metadata": {},
   "source": [
    "Посмотрим на период данных"
   ]
  },
  {
   "cell_type": "code",
   "execution_count": 17,
   "metadata": {},
   "outputs": [
    {
     "data": {
      "text/html": [
       "<div>\n",
       "<style scoped>\n",
       "    .dataframe tbody tr th:only-of-type {\n",
       "        vertical-align: middle;\n",
       "    }\n",
       "\n",
       "    .dataframe tbody tr th {\n",
       "        vertical-align: top;\n",
       "    }\n",
       "\n",
       "    .dataframe thead th {\n",
       "        text-align: right;\n",
       "    }\n",
       "</style>\n",
       "<table border=\"1\" class=\"dataframe\">\n",
       "  <thead>\n",
       "    <tr style=\"text-align: right;\">\n",
       "      <th></th>\n",
       "      <th>min</th>\n",
       "      <th>max</th>\n",
       "    </tr>\n",
       "  </thead>\n",
       "  <tbody>\n",
       "    <tr>\n",
       "      <th>0</th>\n",
       "      <td>2021-10-30</td>\n",
       "      <td>2021-10-31</td>\n",
       "    </tr>\n",
       "  </tbody>\n",
       "</table>\n",
       "</div>"
      ],
      "text/plain": [
       "         min        max\n",
       "0 2021-10-30 2021-10-31"
      ]
     },
     "execution_count": 17,
     "metadata": {},
     "output_type": "execute_result"
    }
   ],
   "source": [
    "query = '''\n",
    "    SELECT\n",
    "        MIN(timest::DATE) as min,\n",
    "        MAX(timest::DATE) as max\n",
    "    FROM default.peas\n",
    "'''\n",
    "\n",
    "date_interval = ph.read_clickhouse(query=query, connection=connection_default)\n",
    "date_interval"
   ]
  },
  {
   "cell_type": "code",
   "execution_count": 18,
   "metadata": {},
   "outputs": [
    {
     "data": {
      "text/html": [
       "<div>\n",
       "<style scoped>\n",
       "    .dataframe tbody tr th:only-of-type {\n",
       "        vertical-align: middle;\n",
       "    }\n",
       "\n",
       "    .dataframe tbody tr th {\n",
       "        vertical-align: top;\n",
       "    }\n",
       "\n",
       "    .dataframe thead th {\n",
       "        text-align: right;\n",
       "    }\n",
       "</style>\n",
       "<table border=\"1\" class=\"dataframe\">\n",
       "  <thead>\n",
       "    <tr style=\"text-align: right;\">\n",
       "      <th></th>\n",
       "      <th>min</th>\n",
       "      <th>max</th>\n",
       "    </tr>\n",
       "  </thead>\n",
       "  <tbody>\n",
       "    <tr>\n",
       "      <th>0</th>\n",
       "      <td>2021-10-30</td>\n",
       "      <td>2021-10-31</td>\n",
       "    </tr>\n",
       "  </tbody>\n",
       "</table>\n",
       "</div>"
      ],
      "text/plain": [
       "         min        max\n",
       "0 2021-10-30 2021-10-31"
      ]
     },
     "execution_count": 18,
     "metadata": {},
     "output_type": "execute_result"
    }
   ],
   "source": [
    "query = '''\n",
    "    SELECT\n",
    "        MIN(sale_time::DATE) as min,\n",
    "        MAX(sale_time::DATE) as max\n",
    "    FROM default.final_project_check\n",
    "'''\n",
    "\n",
    "date_interval_s = ph.read_clickhouse(query=query, connection=connection_default)\n",
    "date_interval_s"
   ]
  },
  {
   "cell_type": "code",
   "execution_count": 19,
   "metadata": {
    "scrolled": true
   },
   "outputs": [
    {
     "data": {
      "text/html": [
       "<div>\n",
       "<style scoped>\n",
       "    .dataframe tbody tr th:only-of-type {\n",
       "        vertical-align: middle;\n",
       "    }\n",
       "\n",
       "    .dataframe tbody tr th {\n",
       "        vertical-align: top;\n",
       "    }\n",
       "\n",
       "    .dataframe thead th {\n",
       "        text-align: right;\n",
       "    }\n",
       "</style>\n",
       "<table border=\"1\" class=\"dataframe\">\n",
       "  <thead>\n",
       "    <tr style=\"text-align: right;\">\n",
       "      <th></th>\n",
       "      <th>diligent_student</th>\n",
       "    </tr>\n",
       "  </thead>\n",
       "  <tbody>\n",
       "    <tr>\n",
       "      <th>0</th>\n",
       "      <td>136</td>\n",
       "    </tr>\n",
       "  </tbody>\n",
       "</table>\n",
       "</div>"
      ],
      "text/plain": [
       "   diligent_student\n",
       "0               136"
      ]
     },
     "execution_count": 19,
     "metadata": {},
     "output_type": "execute_result"
    }
   ],
   "source": [
    "# Посчитаем количество усердных студентов\n",
    "\n",
    "query = '''\n",
    "    SELECT\n",
    "        COUNT(*) as diligent_student\n",
    "    FROM\n",
    "    (\n",
    "        SELECT\n",
    "            SUM(correct) as solved_problems\n",
    "        FROM \n",
    "            default.peas\n",
    "        GROUP BY st_id\n",
    "    )\n",
    "    WHERE solved_problems >= 20\n",
    "    '''\n",
    "\n",
    "diligent_student = ph.read_clickhouse(query, connection=connection_default)\n",
    "diligent_student"
   ]
  },
  {
   "cell_type": "markdown",
   "metadata": {},
   "source": [
    "Ответ: 136 усердных студентов"
   ]
  },
  {
   "cell_type": "markdown",
   "metadata": {},
   "source": [
    "# Задание 2"
   ]
  },
  {
   "cell_type": "markdown",
   "metadata": {},
   "source": [
    "### Оптимизация воронки"
   ]
  },
  {
   "cell_type": "markdown",
   "metadata": {},
   "source": [
    "### Условие\n",
    "\n"
   ]
  },
  {
   "cell_type": "markdown",
   "metadata": {},
   "source": [
    "Образовательная платформа предлагает пройти студентам курсы по модели trial: студент может решить бесплатно лишь 30 горошин в день. Для неограниченного количества заданий в определенной дисциплине студенту необходимо приобрести полный доступ. Команда провела эксперимент, где был протестирован новый экран оплаты."
   ]
  },
  {
   "cell_type": "code",
   "execution_count": 20,
   "metadata": {},
   "outputs": [],
   "source": [
    "query = '''\n",
    "    WITH active_users AS (\n",
    "        SELECT st_id\n",
    "        FROM default.peas\n",
    "        GROUP BY st_id\n",
    "        HAVING COUNT(CASE WHEN correct = true THEN 1 END) > 10\n",
    "    ),\n",
    "    math_active_users AS (\n",
    "        SELECT st_id\n",
    "        FROM default.peas \n",
    "        WHERE subject = 'Math'\n",
    "        GROUP BY st_id\n",
    "        HAVING COUNT(CASE WHEN correct = true THEN 1 END) >= 2\n",
    "    )\n",
    "\n",
    "    SELECT\n",
    "        s.test_grp AS test_grp,\n",
    "        ROUND(SUM(fpc.money) / COUNT(DISTINCT s.st_id), 2) AS ARPU,\n",
    "        ROUND(SUM(fpc.money) FILTER(WHERE s.st_id = active_users.st_id)  / COUNT(DISTINCT s.st_id) FILTER(WHERE s.st_id = active_users.st_id), 2) AS ARPAU,\n",
    "        ROUND(COUNT(DISTINCT s.st_id) FILTER(WHERE fpc.money > 0) / COUNT(DISTINCT s.st_id) * 100, 2) AS CR,\n",
    "        ROUND(COUNT(DISTINCT s.st_id) FILTER(WHERE fpc.money > 0 and s.st_id = active_users.st_id) / COUNT(DISTINCT s.st_id) FILTER(WHERE s.st_id = active_users.st_id) * 100, 2) AS CR_active_users,\n",
    "        ROUND(COUNT(DISTINCT s.st_id) FILTER(WHERE fpc.money > 0 and s.st_id = math_active_users.st_id) / COUNT(DISTINCT s.st_id) FILTER(WHERE s.st_id = math_active_users.st_id) * 100, 2) AS CR_math_active_users\n",
    "    FROM\n",
    "        default.studs AS s\n",
    "    LEFT JOIN\n",
    "        default.final_project_check AS fpc ON s.st_id = fpc.st_id\n",
    "    LEFT JOIN\n",
    "        active_users ON s.st_id = active_users.st_id\n",
    "    LEFT JOIN\n",
    "        math_active_users ON s.st_id = math_active_users.st_id\n",
    "    GROUP BY\n",
    "        s.test_grp\n",
    "'''\n",
    "\n",
    "metric_task = ph.read_clickhouse(query, connection=connection_default)"
   ]
  },
  {
   "cell_type": "code",
   "execution_count": 21,
   "metadata": {},
   "outputs": [
    {
     "data": {
      "text/html": [
       "<div>\n",
       "<style scoped>\n",
       "    .dataframe tbody tr th:only-of-type {\n",
       "        vertical-align: middle;\n",
       "    }\n",
       "\n",
       "    .dataframe tbody tr th {\n",
       "        vertical-align: top;\n",
       "    }\n",
       "\n",
       "    .dataframe thead th {\n",
       "        text-align: right;\n",
       "    }\n",
       "</style>\n",
       "<table border=\"1\" class=\"dataframe\">\n",
       "  <thead>\n",
       "    <tr style=\"text-align: right;\">\n",
       "      <th></th>\n",
       "      <th>test_grp</th>\n",
       "      <th>ARPU</th>\n",
       "      <th>ARPAU</th>\n",
       "      <th>CR</th>\n",
       "      <th>CR_active_users</th>\n",
       "      <th>CR_math_active_users</th>\n",
       "    </tr>\n",
       "  </thead>\n",
       "  <tbody>\n",
       "    <tr>\n",
       "      <th>0</th>\n",
       "      <td>control</td>\n",
       "      <td>4540.98</td>\n",
       "      <td>10393.70</td>\n",
       "      <td>4.92</td>\n",
       "      <td>11.02</td>\n",
       "      <td>10.20</td>\n",
       "    </tr>\n",
       "    <tr>\n",
       "      <th>1</th>\n",
       "      <td>pilot</td>\n",
       "      <td>11508.47</td>\n",
       "      <td>29739.58</td>\n",
       "      <td>10.85</td>\n",
       "      <td>26.04</td>\n",
       "      <td>14.29</td>\n",
       "    </tr>\n",
       "  </tbody>\n",
       "</table>\n",
       "</div>"
      ],
      "text/plain": [
       "  test_grp      ARPU     ARPAU     CR  CR_active_users  CR_math_active_users\n",
       "0  control   4540.98  10393.70   4.92            11.02                 10.20\n",
       "1    pilot  11508.47  29739.58  10.85            26.04                 14.29"
      ]
     },
     "execution_count": 21,
     "metadata": {},
     "output_type": "execute_result"
    }
   ],
   "source": [
    "metric_task"
   ]
  },
  {
   "cell_type": "code",
   "execution_count": 22,
   "metadata": {},
   "outputs": [
    {
     "name": "stdout",
     "output_type": "stream",
     "text": [
      "По сравнению с контрольной группой все метрики в тестовой выросли\n",
      "ARPU увеличился на 2.53%\n",
      "ARPAU увеличился на 2.86%\n",
      "CR в покупку увеличился на 2.21%\n",
      "СR активного пользователя в покупку увеличился на 2.36%\n",
      "CR пользователя из активности по математике в покупку курса по математике увеличился на 1.4%\n"
     ]
    }
   ],
   "source": [
    "print('По сравнению с контрольной группой все метрики в тестовой выросли')\n",
    "print(f'''ARPU увеличился на {round(metric_task.query('test_grp == \"pilot\"').ARPU[1] / metric_task.query('test_grp == \"control\"').ARPU[0], 2)}%''')\n",
    "print(f'''ARPAU увеличился на {round(metric_task.query('test_grp == \"pilot\"').ARPAU[1] / metric_task.query('test_grp == \"control\"').ARPAU[0], 2)}%''')\n",
    "print(f'''CR в покупку увеличился на {round(metric_task.query('test_grp == \"pilot\"').CR[1] / metric_task.query('test_grp == \"control\"').CR[0], 2)}%''')\n",
    "print(f'''СR активного пользователя в покупку увеличился на {round(metric_task.query('test_grp == \"pilot\"').CR_active_users[1] / metric_task.query('test_grp == \"control\"').CR_active_users[0], 2)}%''')\n",
    "print(f'''CR пользователя из активности по математике в покупку курса по математике увеличился на {round(metric_task.query('test_grp == \"pilot\"').CR_math_active_users[1] / metric_task.query('test_grp == \"control\"').CR_math_active_users[0], 2)}%''')"
   ]
  },
  {
   "cell_type": "code",
   "execution_count": null,
   "metadata": {},
   "outputs": [],
   "source": []
  }
 ],
 "metadata": {
  "kernelspec": {
   "display_name": "Python 3",
   "language": "python",
   "name": "python3"
  },
  "language_info": {
   "codemirror_mode": {
    "name": "ipython",
    "version": 3
   },
   "file_extension": ".py",
   "mimetype": "text/x-python",
   "name": "python",
   "nbconvert_exporter": "python",
   "pygments_lexer": "ipython3",
   "version": "3.7.3"
  }
 },
 "nbformat": 4,
 "nbformat_minor": 4
}
